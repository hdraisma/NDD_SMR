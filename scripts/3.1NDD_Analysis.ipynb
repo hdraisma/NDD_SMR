{
 "cells": [
  {
   "cell_type": "markdown",
   "id": "0ca49919-4b0a-4fa0-8a56-2ddcc8df4c2e",
   "metadata": {},
   "source": [
    "# OmicSynth NDD Drug Target Analysis"
   ]
  },
  {
   "cell_type": "markdown",
   "id": "b3c0e6bc-197c-4311-b247-8e29a53040a7",
   "metadata": {},
   "source": [
    "1. [Significant Genes](#siggen) <br>\n",
    "2. [Summary Statistics](#sumstats) \n",
    "    1. [Number of Unique Genes in each Disease](#sumstats2.1)\n",
    "    2. [Number of Unique Genes by eQTL](#sumstats2.2)\n",
    "    3. [Number of Significant Unique Genes](#sumstats2.3)\n",
    "        1. [p<sub>SMR_multi</sub> < 0.05 +  p<sub>HEIDI</sub> > 0.01](#sumstats2.3)\n",
    "        2. [p<sub>SMR_multi</sub> < 0.05/16875 & p<sub>HEIDI</sub> > 0.01](#sumstats2.3.2)\n",
    "        3. [p<sub>SMR_multi</sub> < 0.05/16875 & p<sub>HEIDI</sub> > 0.01](#sumstats2.3.2)\n",
    "3. "
   ]
  },
  {
   "cell_type": "markdown",
   "id": "e8972747-72cf-4ae3-8954-bc84a7f02296",
   "metadata": {},
   "source": [
    "## Library Load and Data Read in"
   ]
  },
  {
   "cell_type": "code",
   "execution_count": 1,
   "id": "2c29ee97-736d-4df4-bf13-e44f5fa515f9",
   "metadata": {},
   "outputs": [],
   "source": [
    "import pandas as pd\n",
    "import subprocess\n",
    "import sys\n",
    "import numpy as np\n",
    "import os\n",
    "import glob\n",
    "from scipy.stats import rankdata\n",
    "#from omicsynth_func import *\n",
    "import warnings\n",
    "warnings.simplefilter(action='ignore')\n",
    "\n",
    "\n",
    "# Display all rows from data frame using pandas\n",
    "#pd.set_option('display.max_rows', None)"
   ]
  },
  {
   "cell_type": "code",
   "execution_count": 2,
   "id": "fb48c2bb-55be-4397-aa73-e910286a1a23",
   "metadata": {},
   "outputs": [],
   "source": [
    "def extract_topsig_genes(main_df,  sig = 0.05):\n",
    "    # create df to hold top genes\n",
    "    top_gene_df = pd.DataFrame()\n",
    " \n",
    "    df_adj = main_df.query(f'p_SMR_multi <= {sig} & p_HEIDI > 0.01')\n",
    "    top_gene = df_adj[['Omic', 'Disease', 'Gene','probeID','ProbeChr', 'Probe_bp', 'topRSID','topSNP_chr', 'topSNP_bp', 'A1', 'A2', 'b_SMR', 'se_SMR','p_SMR', 'p_SMR_multi','p_HEIDI']] # filter out any genes whose fdr pval does not meet defined significance; default = 0.05\n",
    "\n",
    "    top_gene_df = pd.concat([top_gene_df,top_gene])\n",
    "    top_gene_df = top_gene_df.drop_duplicates()\n",
    "        \n",
    "    return top_gene_df"
   ]
  },
  {
   "cell_type": "code",
   "execution_count": 3,
   "id": "710b5631-0b9e-4034-9661-7b673ae49cbb",
   "metadata": {},
   "outputs": [],
   "source": [
    "def extract_top_genes(main_df,dx_list, omic_list, pcol):\n",
    "    \n",
    "    # create df to hold top genes\n",
    "    top_gene_df = pd.DataFrame()\n",
    "\n",
    "    for disease in dx_list:\n",
    "        for omic in omic_list:\n",
    "\n",
    "            # filter for hits that have  FDR_pval < 0.05 and p_HEIDI > 0.01\n",
    "            df = main_df.query(f\"Disease == '{disease}' & Omic == '{omic}'\")\n",
    "            \n",
    "            df = df.query(\"p_SMR_multi < 0.05 & p_HEIDI > 0.01\")\n",
    "            top_gene = df[df['p_SMR_multi'] == df['p_SMR_multi'].min()]\n",
    "            top_gene = top_gene[['Omic', 'Disease', 'Gene','probeID','ProbeChr', 'Probe_bp', 'topRSID','topSNP_chr', 'topSNP_bp', 'A1', 'A2', 'b_SMR', 'se_SMR','p_SMR', 'p_SMR_multi','p_HEIDI']]\n",
    "\n",
    "            top_gene_df = pd.concat([top_gene_df,top_gene])\n",
    "    return top_gene_df"
   ]
  },
  {
   "cell_type": "code",
   "execution_count": 7,
   "id": "21d93e01-b7d7-49af-be57-ac3b195fc8fe",
   "metadata": {},
   "outputs": [
    {
     "name": "stdout",
     "output_type": "stream",
     "text": [
      "/media/hammie/My Passport/SOFTWARE/omicsynthcustomanalysis/NDD_SMR/scripts\n"
     ]
    },
    {
     "ename": "FileNotFoundError",
     "evalue": "[Errno 2] No such file or directory: 'NDD_SMR_genes.csv'",
     "output_type": "error",
     "traceback": [
      "\u001b[0;31m---------------------------------------------------------------------------\u001b[0m",
      "\u001b[0;31mFileNotFoundError\u001b[0m                         Traceback (most recent call last)",
      "Input \u001b[0;32mIn [7]\u001b[0m, in \u001b[0;36m<cell line: 3>\u001b[0;34m()\u001b[0m\n\u001b[1;32m      1\u001b[0m \u001b[38;5;66;03m# load in SMR results for NDDs\u001b[39;00m\n\u001b[1;32m      2\u001b[0m \u001b[38;5;28mprint\u001b[39m(os\u001b[38;5;241m.\u001b[39mgetcwd())   \u001b[38;5;66;03m#<-- This line new code as at 2023-11-23 18:48GMT (HD)\u001b[39;00m\n\u001b[0;32m----> 3\u001b[0m ndd_df \u001b[38;5;241m=\u001b[39m \u001b[43mpd\u001b[49m\u001b[38;5;241;43m.\u001b[39;49m\u001b[43mread_csv\u001b[49m\u001b[43m(\u001b[49m\u001b[38;5;124;43m\"\u001b[39;49m\u001b[38;5;124;43mNDD_SMR_genes.csv\u001b[39;49m\u001b[38;5;124;43m\"\u001b[39;49m\u001b[43m)\u001b[49m\n\u001b[1;32m      5\u001b[0m \u001b[38;5;66;03m# read in therapeutic drug data - from Finan et al and DGidb\u001b[39;00m\n\u001b[1;32m      6\u001b[0m drug_df \u001b[38;5;241m=\u001b[39m pd\u001b[38;5;241m.\u001b[39mread_csv(\u001b[38;5;124m'\u001b[39m\u001b[38;5;124m/data/CARD_AA/projects/omicSynth/v8/analysis/drug_genome_dgidb.csv\u001b[39m\u001b[38;5;124m'\u001b[39m, sep \u001b[38;5;241m=\u001b[39m \u001b[38;5;124m'\u001b[39m\u001b[38;5;124m,\u001b[39m\u001b[38;5;124m'\u001b[39m)\n",
      "File \u001b[0;32m~/anaconda3/lib/python3.9/site-packages/pandas/util/_decorators.py:311\u001b[0m, in \u001b[0;36mdeprecate_nonkeyword_arguments.<locals>.decorate.<locals>.wrapper\u001b[0;34m(*args, **kwargs)\u001b[0m\n\u001b[1;32m    305\u001b[0m \u001b[38;5;28;01mif\u001b[39;00m \u001b[38;5;28mlen\u001b[39m(args) \u001b[38;5;241m>\u001b[39m num_allow_args:\n\u001b[1;32m    306\u001b[0m     warnings\u001b[38;5;241m.\u001b[39mwarn(\n\u001b[1;32m    307\u001b[0m         msg\u001b[38;5;241m.\u001b[39mformat(arguments\u001b[38;5;241m=\u001b[39marguments),\n\u001b[1;32m    308\u001b[0m         \u001b[38;5;167;01mFutureWarning\u001b[39;00m,\n\u001b[1;32m    309\u001b[0m         stacklevel\u001b[38;5;241m=\u001b[39mstacklevel,\n\u001b[1;32m    310\u001b[0m     )\n\u001b[0;32m--> 311\u001b[0m \u001b[38;5;28;01mreturn\u001b[39;00m \u001b[43mfunc\u001b[49m\u001b[43m(\u001b[49m\u001b[38;5;241;43m*\u001b[39;49m\u001b[43margs\u001b[49m\u001b[43m,\u001b[49m\u001b[43m \u001b[49m\u001b[38;5;241;43m*\u001b[39;49m\u001b[38;5;241;43m*\u001b[39;49m\u001b[43mkwargs\u001b[49m\u001b[43m)\u001b[49m\n",
      "File \u001b[0;32m~/anaconda3/lib/python3.9/site-packages/pandas/io/parsers/readers.py:680\u001b[0m, in \u001b[0;36mread_csv\u001b[0;34m(filepath_or_buffer, sep, delimiter, header, names, index_col, usecols, squeeze, prefix, mangle_dupe_cols, dtype, engine, converters, true_values, false_values, skipinitialspace, skiprows, skipfooter, nrows, na_values, keep_default_na, na_filter, verbose, skip_blank_lines, parse_dates, infer_datetime_format, keep_date_col, date_parser, dayfirst, cache_dates, iterator, chunksize, compression, thousands, decimal, lineterminator, quotechar, quoting, doublequote, escapechar, comment, encoding, encoding_errors, dialect, error_bad_lines, warn_bad_lines, on_bad_lines, delim_whitespace, low_memory, memory_map, float_precision, storage_options)\u001b[0m\n\u001b[1;32m    665\u001b[0m kwds_defaults \u001b[38;5;241m=\u001b[39m _refine_defaults_read(\n\u001b[1;32m    666\u001b[0m     dialect,\n\u001b[1;32m    667\u001b[0m     delimiter,\n\u001b[0;32m   (...)\u001b[0m\n\u001b[1;32m    676\u001b[0m     defaults\u001b[38;5;241m=\u001b[39m{\u001b[38;5;124m\"\u001b[39m\u001b[38;5;124mdelimiter\u001b[39m\u001b[38;5;124m\"\u001b[39m: \u001b[38;5;124m\"\u001b[39m\u001b[38;5;124m,\u001b[39m\u001b[38;5;124m\"\u001b[39m},\n\u001b[1;32m    677\u001b[0m )\n\u001b[1;32m    678\u001b[0m kwds\u001b[38;5;241m.\u001b[39mupdate(kwds_defaults)\n\u001b[0;32m--> 680\u001b[0m \u001b[38;5;28;01mreturn\u001b[39;00m \u001b[43m_read\u001b[49m\u001b[43m(\u001b[49m\u001b[43mfilepath_or_buffer\u001b[49m\u001b[43m,\u001b[49m\u001b[43m \u001b[49m\u001b[43mkwds\u001b[49m\u001b[43m)\u001b[49m\n",
      "File \u001b[0;32m~/anaconda3/lib/python3.9/site-packages/pandas/io/parsers/readers.py:575\u001b[0m, in \u001b[0;36m_read\u001b[0;34m(filepath_or_buffer, kwds)\u001b[0m\n\u001b[1;32m    572\u001b[0m _validate_names(kwds\u001b[38;5;241m.\u001b[39mget(\u001b[38;5;124m\"\u001b[39m\u001b[38;5;124mnames\u001b[39m\u001b[38;5;124m\"\u001b[39m, \u001b[38;5;28;01mNone\u001b[39;00m))\n\u001b[1;32m    574\u001b[0m \u001b[38;5;66;03m# Create the parser.\u001b[39;00m\n\u001b[0;32m--> 575\u001b[0m parser \u001b[38;5;241m=\u001b[39m \u001b[43mTextFileReader\u001b[49m\u001b[43m(\u001b[49m\u001b[43mfilepath_or_buffer\u001b[49m\u001b[43m,\u001b[49m\u001b[43m \u001b[49m\u001b[38;5;241;43m*\u001b[39;49m\u001b[38;5;241;43m*\u001b[39;49m\u001b[43mkwds\u001b[49m\u001b[43m)\u001b[49m\n\u001b[1;32m    577\u001b[0m \u001b[38;5;28;01mif\u001b[39;00m chunksize \u001b[38;5;129;01mor\u001b[39;00m iterator:\n\u001b[1;32m    578\u001b[0m     \u001b[38;5;28;01mreturn\u001b[39;00m parser\n",
      "File \u001b[0;32m~/anaconda3/lib/python3.9/site-packages/pandas/io/parsers/readers.py:933\u001b[0m, in \u001b[0;36mTextFileReader.__init__\u001b[0;34m(self, f, engine, **kwds)\u001b[0m\n\u001b[1;32m    930\u001b[0m     \u001b[38;5;28mself\u001b[39m\u001b[38;5;241m.\u001b[39moptions[\u001b[38;5;124m\"\u001b[39m\u001b[38;5;124mhas_index_names\u001b[39m\u001b[38;5;124m\"\u001b[39m] \u001b[38;5;241m=\u001b[39m kwds[\u001b[38;5;124m\"\u001b[39m\u001b[38;5;124mhas_index_names\u001b[39m\u001b[38;5;124m\"\u001b[39m]\n\u001b[1;32m    932\u001b[0m \u001b[38;5;28mself\u001b[39m\u001b[38;5;241m.\u001b[39mhandles: IOHandles \u001b[38;5;241m|\u001b[39m \u001b[38;5;28;01mNone\u001b[39;00m \u001b[38;5;241m=\u001b[39m \u001b[38;5;28;01mNone\u001b[39;00m\n\u001b[0;32m--> 933\u001b[0m \u001b[38;5;28mself\u001b[39m\u001b[38;5;241m.\u001b[39m_engine \u001b[38;5;241m=\u001b[39m \u001b[38;5;28;43mself\u001b[39;49m\u001b[38;5;241;43m.\u001b[39;49m\u001b[43m_make_engine\u001b[49m\u001b[43m(\u001b[49m\u001b[43mf\u001b[49m\u001b[43m,\u001b[49m\u001b[43m \u001b[49m\u001b[38;5;28;43mself\u001b[39;49m\u001b[38;5;241;43m.\u001b[39;49m\u001b[43mengine\u001b[49m\u001b[43m)\u001b[49m\n",
      "File \u001b[0;32m~/anaconda3/lib/python3.9/site-packages/pandas/io/parsers/readers.py:1217\u001b[0m, in \u001b[0;36mTextFileReader._make_engine\u001b[0;34m(self, f, engine)\u001b[0m\n\u001b[1;32m   1213\u001b[0m     mode \u001b[38;5;241m=\u001b[39m \u001b[38;5;124m\"\u001b[39m\u001b[38;5;124mrb\u001b[39m\u001b[38;5;124m\"\u001b[39m\n\u001b[1;32m   1214\u001b[0m \u001b[38;5;66;03m# error: No overload variant of \"get_handle\" matches argument types\u001b[39;00m\n\u001b[1;32m   1215\u001b[0m \u001b[38;5;66;03m# \"Union[str, PathLike[str], ReadCsvBuffer[bytes], ReadCsvBuffer[str]]\"\u001b[39;00m\n\u001b[1;32m   1216\u001b[0m \u001b[38;5;66;03m# , \"str\", \"bool\", \"Any\", \"Any\", \"Any\", \"Any\", \"Any\"\u001b[39;00m\n\u001b[0;32m-> 1217\u001b[0m \u001b[38;5;28mself\u001b[39m\u001b[38;5;241m.\u001b[39mhandles \u001b[38;5;241m=\u001b[39m \u001b[43mget_handle\u001b[49m\u001b[43m(\u001b[49m\u001b[43m  \u001b[49m\u001b[38;5;66;43;03m# type: ignore[call-overload]\u001b[39;49;00m\n\u001b[1;32m   1218\u001b[0m \u001b[43m    \u001b[49m\u001b[43mf\u001b[49m\u001b[43m,\u001b[49m\n\u001b[1;32m   1219\u001b[0m \u001b[43m    \u001b[49m\u001b[43mmode\u001b[49m\u001b[43m,\u001b[49m\n\u001b[1;32m   1220\u001b[0m \u001b[43m    \u001b[49m\u001b[43mencoding\u001b[49m\u001b[38;5;241;43m=\u001b[39;49m\u001b[38;5;28;43mself\u001b[39;49m\u001b[38;5;241;43m.\u001b[39;49m\u001b[43moptions\u001b[49m\u001b[38;5;241;43m.\u001b[39;49m\u001b[43mget\u001b[49m\u001b[43m(\u001b[49m\u001b[38;5;124;43m\"\u001b[39;49m\u001b[38;5;124;43mencoding\u001b[39;49m\u001b[38;5;124;43m\"\u001b[39;49m\u001b[43m,\u001b[49m\u001b[43m \u001b[49m\u001b[38;5;28;43;01mNone\u001b[39;49;00m\u001b[43m)\u001b[49m\u001b[43m,\u001b[49m\n\u001b[1;32m   1221\u001b[0m \u001b[43m    \u001b[49m\u001b[43mcompression\u001b[49m\u001b[38;5;241;43m=\u001b[39;49m\u001b[38;5;28;43mself\u001b[39;49m\u001b[38;5;241;43m.\u001b[39;49m\u001b[43moptions\u001b[49m\u001b[38;5;241;43m.\u001b[39;49m\u001b[43mget\u001b[49m\u001b[43m(\u001b[49m\u001b[38;5;124;43m\"\u001b[39;49m\u001b[38;5;124;43mcompression\u001b[39;49m\u001b[38;5;124;43m\"\u001b[39;49m\u001b[43m,\u001b[49m\u001b[43m \u001b[49m\u001b[38;5;28;43;01mNone\u001b[39;49;00m\u001b[43m)\u001b[49m\u001b[43m,\u001b[49m\n\u001b[1;32m   1222\u001b[0m \u001b[43m    \u001b[49m\u001b[43mmemory_map\u001b[49m\u001b[38;5;241;43m=\u001b[39;49m\u001b[38;5;28;43mself\u001b[39;49m\u001b[38;5;241;43m.\u001b[39;49m\u001b[43moptions\u001b[49m\u001b[38;5;241;43m.\u001b[39;49m\u001b[43mget\u001b[49m\u001b[43m(\u001b[49m\u001b[38;5;124;43m\"\u001b[39;49m\u001b[38;5;124;43mmemory_map\u001b[39;49m\u001b[38;5;124;43m\"\u001b[39;49m\u001b[43m,\u001b[49m\u001b[43m \u001b[49m\u001b[38;5;28;43;01mFalse\u001b[39;49;00m\u001b[43m)\u001b[49m\u001b[43m,\u001b[49m\n\u001b[1;32m   1223\u001b[0m \u001b[43m    \u001b[49m\u001b[43mis_text\u001b[49m\u001b[38;5;241;43m=\u001b[39;49m\u001b[43mis_text\u001b[49m\u001b[43m,\u001b[49m\n\u001b[1;32m   1224\u001b[0m \u001b[43m    \u001b[49m\u001b[43merrors\u001b[49m\u001b[38;5;241;43m=\u001b[39;49m\u001b[38;5;28;43mself\u001b[39;49m\u001b[38;5;241;43m.\u001b[39;49m\u001b[43moptions\u001b[49m\u001b[38;5;241;43m.\u001b[39;49m\u001b[43mget\u001b[49m\u001b[43m(\u001b[49m\u001b[38;5;124;43m\"\u001b[39;49m\u001b[38;5;124;43mencoding_errors\u001b[39;49m\u001b[38;5;124;43m\"\u001b[39;49m\u001b[43m,\u001b[49m\u001b[43m \u001b[49m\u001b[38;5;124;43m\"\u001b[39;49m\u001b[38;5;124;43mstrict\u001b[39;49m\u001b[38;5;124;43m\"\u001b[39;49m\u001b[43m)\u001b[49m\u001b[43m,\u001b[49m\n\u001b[1;32m   1225\u001b[0m \u001b[43m    \u001b[49m\u001b[43mstorage_options\u001b[49m\u001b[38;5;241;43m=\u001b[39;49m\u001b[38;5;28;43mself\u001b[39;49m\u001b[38;5;241;43m.\u001b[39;49m\u001b[43moptions\u001b[49m\u001b[38;5;241;43m.\u001b[39;49m\u001b[43mget\u001b[49m\u001b[43m(\u001b[49m\u001b[38;5;124;43m\"\u001b[39;49m\u001b[38;5;124;43mstorage_options\u001b[39;49m\u001b[38;5;124;43m\"\u001b[39;49m\u001b[43m,\u001b[49m\u001b[43m \u001b[49m\u001b[38;5;28;43;01mNone\u001b[39;49;00m\u001b[43m)\u001b[49m\u001b[43m,\u001b[49m\n\u001b[1;32m   1226\u001b[0m \u001b[43m\u001b[49m\u001b[43m)\u001b[49m\n\u001b[1;32m   1227\u001b[0m \u001b[38;5;28;01massert\u001b[39;00m \u001b[38;5;28mself\u001b[39m\u001b[38;5;241m.\u001b[39mhandles \u001b[38;5;129;01mis\u001b[39;00m \u001b[38;5;129;01mnot\u001b[39;00m \u001b[38;5;28;01mNone\u001b[39;00m\n\u001b[1;32m   1228\u001b[0m f \u001b[38;5;241m=\u001b[39m \u001b[38;5;28mself\u001b[39m\u001b[38;5;241m.\u001b[39mhandles\u001b[38;5;241m.\u001b[39mhandle\n",
      "File \u001b[0;32m~/anaconda3/lib/python3.9/site-packages/pandas/io/common.py:789\u001b[0m, in \u001b[0;36mget_handle\u001b[0;34m(path_or_buf, mode, encoding, compression, memory_map, is_text, errors, storage_options)\u001b[0m\n\u001b[1;32m    784\u001b[0m \u001b[38;5;28;01melif\u001b[39;00m \u001b[38;5;28misinstance\u001b[39m(handle, \u001b[38;5;28mstr\u001b[39m):\n\u001b[1;32m    785\u001b[0m     \u001b[38;5;66;03m# Check whether the filename is to be opened in binary mode.\u001b[39;00m\n\u001b[1;32m    786\u001b[0m     \u001b[38;5;66;03m# Binary mode does not support 'encoding' and 'newline'.\u001b[39;00m\n\u001b[1;32m    787\u001b[0m     \u001b[38;5;28;01mif\u001b[39;00m ioargs\u001b[38;5;241m.\u001b[39mencoding \u001b[38;5;129;01mand\u001b[39;00m \u001b[38;5;124m\"\u001b[39m\u001b[38;5;124mb\u001b[39m\u001b[38;5;124m\"\u001b[39m \u001b[38;5;129;01mnot\u001b[39;00m \u001b[38;5;129;01min\u001b[39;00m ioargs\u001b[38;5;241m.\u001b[39mmode:\n\u001b[1;32m    788\u001b[0m         \u001b[38;5;66;03m# Encoding\u001b[39;00m\n\u001b[0;32m--> 789\u001b[0m         handle \u001b[38;5;241m=\u001b[39m \u001b[38;5;28;43mopen\u001b[39;49m\u001b[43m(\u001b[49m\n\u001b[1;32m    790\u001b[0m \u001b[43m            \u001b[49m\u001b[43mhandle\u001b[49m\u001b[43m,\u001b[49m\n\u001b[1;32m    791\u001b[0m \u001b[43m            \u001b[49m\u001b[43mioargs\u001b[49m\u001b[38;5;241;43m.\u001b[39;49m\u001b[43mmode\u001b[49m\u001b[43m,\u001b[49m\n\u001b[1;32m    792\u001b[0m \u001b[43m            \u001b[49m\u001b[43mencoding\u001b[49m\u001b[38;5;241;43m=\u001b[39;49m\u001b[43mioargs\u001b[49m\u001b[38;5;241;43m.\u001b[39;49m\u001b[43mencoding\u001b[49m\u001b[43m,\u001b[49m\n\u001b[1;32m    793\u001b[0m \u001b[43m            \u001b[49m\u001b[43merrors\u001b[49m\u001b[38;5;241;43m=\u001b[39;49m\u001b[43merrors\u001b[49m\u001b[43m,\u001b[49m\n\u001b[1;32m    794\u001b[0m \u001b[43m            \u001b[49m\u001b[43mnewline\u001b[49m\u001b[38;5;241;43m=\u001b[39;49m\u001b[38;5;124;43m\"\u001b[39;49m\u001b[38;5;124;43m\"\u001b[39;49m\u001b[43m,\u001b[49m\n\u001b[1;32m    795\u001b[0m \u001b[43m        \u001b[49m\u001b[43m)\u001b[49m\n\u001b[1;32m    796\u001b[0m     \u001b[38;5;28;01melse\u001b[39;00m:\n\u001b[1;32m    797\u001b[0m         \u001b[38;5;66;03m# Binary mode\u001b[39;00m\n\u001b[1;32m    798\u001b[0m         handle \u001b[38;5;241m=\u001b[39m \u001b[38;5;28mopen\u001b[39m(handle, ioargs\u001b[38;5;241m.\u001b[39mmode)\n",
      "\u001b[0;31mFileNotFoundError\u001b[0m: [Errno 2] No such file or directory: 'NDD_SMR_genes.csv'"
     ]
    }
   ],
   "source": [
    "# load in SMR results for NDDs\n",
    "print(os.getcwd())   #<-- This line new code as at 2023-11-23 18:48GMT (HD)\n",
    "ndd_df = pd.read_csv(\"NDD_SMR_genes.csv\")\n",
    "\n",
    "# read in therapeutic drug data - from Finan et al and DGidb\n",
    "drug_df = pd.read_csv('/data/CARD_AA/projects/omicSynth/v8/analysis/drug_genome_dgidb.csv', sep = ',')\n",
    "\n",
    "\n",
    "# list of unique gene targets from drug data\n",
    "thera_genes = list(drug_df['gene_name'].unique())\n"
   ]
  },
  {
   "cell_type": "code",
   "execution_count": null,
   "id": "4b39dc70-7137-4d2e-8243-7b7f28fa9b8f",
   "metadata": {},
   "outputs": [],
   "source": [
    "# read in protein coding genes\n",
    "coding = pd.read_csv('proteincoding_genesym.csv')\n",
    "\n",
    "# remove novel_or_none\n",
    "coding = coding.query('Gene_symbol != \"novel_or_none\"')\n",
    "\n",
    "# get list\n",
    "cgenes = list(coding.Gene_symbol)\n",
    "\n",
    "# print shape of df before removing non protein coding genes\n",
    "ndd_df.shape"
   ]
  },
  {
   "cell_type": "code",
   "execution_count": null,
   "id": "5efc1224-bbaf-4c1c-8256-3c02abe4aaf1",
   "metadata": {},
   "outputs": [],
   "source": [
    "# remove all non protein coding genes\n",
    "ndd_df_pc = ndd_df.query('Gene == @cgenes')\n",
    "\n",
    "# print shape of df after removing non protein coding genes\n",
    "ndd_df_pc.shape"
   ]
  },
  {
   "cell_type": "code",
   "execution_count": null,
   "id": "2728c999-4f16-4e4d-850c-102c8236723a",
   "metadata": {},
   "outputs": [],
   "source": [
    "# difference\n",
    "dif = ndd_df.shape[0] - ndd_df_pc.shape[0]\n",
    "\n",
    "print(f'Removed {dif} non protein coding genes')"
   ]
  },
  {
   "cell_type": "code",
   "execution_count": null,
   "id": "df1d6332-8dae-467c-ab43-d29940a8c11e",
   "metadata": {},
   "outputs": [],
   "source": [
    "omic_map = {'Cerebellum_metaBrain': 'Cerebellum eQTL',\n",
    " 'Basalganglia_metaBrain': 'Basal Ganglia eQTL',\n",
    " 'Spinalcord_metaBrain': 'Spinalcord eQTL',\n",
    " 'Hippocampus_metaBrain': 'Hippocampus eQTL',\n",
    " 'brain_mMeta': 'Whole Brain meta-analysis mQTL',\n",
    " 'blood_mcrae': 'Whole Blood mQTL',\n",
    " 'Cortex_metaBrain': 'Cortex eQTL metaBrain',\n",
    " 'Brain_Frontal_Cortex_BA9': 'Frontal Cortex BA9 eQTL',\n",
    " 'Brain_Cerebellar_Hemisphere': 'Cerebellar Hemisphere eQTL',\n",
    " 'psychEncode_prefrontal_cortex': 'Prefrontal Cortex eQTL',\n",
    " 'Brain_Cortex': 'Cortex eQTL GTEx',\n",
    " 'Brain_Caudate_basal_ganglia': 'Caudate Basal Ganglia eQTL',\n",
    " 'Nerve_Tibial': 'Tibial Nerve eQTL',\n",
    " 'Muscle_Skeletal': 'Skeletal Muscle eQTL',\n",
    " 'Brain_Hippocampus': 'Hippocampus eQTL',\n",
    " 'multiancestry': 'Multi Ancestry Whole Brain Meta-analysis eQTL',\n",
    " 'Brain_Substantia_nigra': 'Substantia nigra eQTL',\n",
    " 'atlas_csf': 'Cerebral Spinal Fluid pQTL',\n",
    " 'Brain_Hypothalamus': 'Hypothalamus eQTL',\n",
    " 'Liver': 'Liver eQTL',\n",
    " 'Brain_Anterior_cingulate_cortex_BA24': 'Anterior Cingulate Cortex BA24 eQTL',\n",
    " 'blood_eQTLgen': 'Whole Blood eQTL eQTLgen',\n",
    " 'Brain_Putamen_basal_ganglia': 'Putamen Basal Ganglia eQTL',\n",
    " 'Brain_Amygdala': 'Amygdala eQTL',\n",
    " 'brain_eMeta': 'Whole Brain eQTL',\n",
    " 'Whole_Blood': 'Whole Blood eQTL GTEx',\n",
    " 'Brain_Cerebellum': 'Cerebellum eQTL',\n",
    " 'Brain_Nucleus_accumbens_basal_ganglia': 'Nucleus Accumbens Basal Ganglia',\n",
    "'Brain_Spinal_cord_cervical_c1': 'Cervical Spinal Cord C1 eQTL'}"
   ]
  },
  {
   "cell_type": "code",
   "execution_count": null,
   "id": "c77e1895-ff94-43e2-9269-dc3c84914134",
   "metadata": {},
   "outputs": [],
   "source": [
    "# change omics\n",
    "ndd_df_pc['Omic Annotated'] = ndd_df_pc.Omic.map(omic_map)\n",
    "ndd_df_pc = ndd_df_pc[['Omic Annotated', 'Disease', 'Gene', 'probeID', 'ProbeChr', 'Probe_bp', 'topRSID',\n",
    "       'topSNP_chr', 'topSNP_bp', 'A1', 'A2', 'b_SMR', 'se_SMR', 'p_SMR',\n",
    "       'p_SMR_multi', 'p_HEIDI']]\n",
    "ndd_df_pc.rename({'Omic Annotated': 'Omic'}, axis = 1, inplace = True)\n",
    "ndd_df_pc"
   ]
  },
  {
   "cell_type": "code",
   "execution_count": null,
   "id": "d8bb57e7-5c28-4e18-b819-6527e755c5c4",
   "metadata": {},
   "outputs": [],
   "source": [
    "# get desired NDDs from Gtex\n",
    "gtex_brain = glob.glob('./AD_Risk_Factors/GTEx/eQTL_besd_lite/Brain*')\n",
    "gtex_liver = glob.glob('./AD_Risk_Factors/GTEx/eQTL_besd_lite/Liver*')\n",
    "gtex_nerve = glob.glob('./AD_Risk_Factors/GTEx/eQTL_besd_lite/Nerve*')\n",
    "gtex_muscle = glob.glob('./AD_Risk_Factors/GTEx/eQTL_besd_lite/Muscle*')\n",
    "gtex_blood = glob.glob('./AD_Risk_Factors/GTEx/eQTL_besd_lite/*Blood*')\n",
    "\n",
    "gtex_list = gtex_brain + gtex_liver + gtex_nerve + gtex_blood + gtex_muscle\n",
    "\n",
    "gtex = []\n",
    "for x in gtex_list:\n",
    "    shortname = x.split('/')[-1].rsplit('.',2)[0] \n",
    "    if shortname not in gtex:\n",
    "        gtex.append(x.split('/')[-1].rsplit('.',2)[0])\n",
    "        \n",
    "gtex = list(map(lambda x: x.replace('Brain_Spinal_cord_cervical_c-1', 'Brain_Spinal_cord_cervical_c1'), gtex))\n",
    "\n",
    "ndd_list = ['AD', 'ALS', 'FTD', 'LBD', 'PD', 'PSP']\n",
    "\n",
    "# add non-GTEx xQTL sources\n",
    "ndd_omic = gtex + ['Cerebellum_metaBrain', 'Spinalcord_metaBrain', 'brain_eMeta', 'Cortex_metaBrain', \n",
    "            'Basalganglia_metaBrain', 'Hippocampus_metaBrain', 'blood_eQTLgen', 'brain_mMeta', 'blood_Bryois', 'blood_mcrae', 'psychEncode_prefrontal_cortex', 'atlas_csf', 'atlas_plasma', 'atlas_brain', 'multiancestry']\n",
    "\n",
    "# list of eqtl omics except multiancestry\n",
    "eqtl_omics = ['Brain_Amygdala', 'Brain_Hippocampus',\n",
    "       'Brain_Anterior_cingulate_cortex_BA24',\n",
    "       'Brain_Nucleus_accumbens_basal_ganglia', 'Brain_Hypothalamus',\n",
    "       'Brain_Cerebellar_Hemisphere', 'Brain_Substantia_nigra',\n",
    "       'Brain_Caudate_basal_ganglia', 'Brain_Putamen_basal_ganglia',\n",
    "       'Brain_Cerebellum', 'Brain_Cortex', 'Brain_Frontal_Cortex_BA9',\n",
    "       'Liver', 'Nerve_Tibial', 'Whole_Blood', 'Muscle_Skeletal',\n",
    "       'Cerebellum_metaBrain', 'Spinalcord_metaBrain', 'brain_eMeta',\n",
    "       'Cortex_metaBrain', 'Basalganglia_metaBrain',\n",
    "       'Hippocampus_metaBrain', 'blood_eQTLgen', 'psychEncode_prefrontal_cortex', 'Brain_Spinal_cord_cervical_c1']\n",
    "\n",
    "eqtl_omics2 = ['Cerebellum eQTL', 'Basal Ganglia eQTL', 'Spinalcord eQTL', 'Hippocampus eQTL', 'Cortex eQTL metaBrain', 'Frontal Cortex BA9 eQTL',\n",
    "               'Cerebellar Hemisphere eQTL', 'Prefrontal Cortex eQTL', 'Cortex eQTL GTEx', 'Caudate Basal Ganglia eQTL', 'Tibial Nerve eQTL',\n",
    "               'Skeletal Muscle eQTL', 'Hippocampus eQTL', 'Substantia nigra eQTL', 'Hypothalamus eQTL', 'Liver eQTL', 'Anterior Cingulate Cortex BA24 eQTL',\n",
    "               'Whole Blood eQTL eQTLgen', 'Putamen Basal Ganglia eQTL', 'Amygdala eQTL', 'Whole Brain eQTL', 'Whole Blood eQTL GTEx', 'Cerebellum eQTL',\n",
    "               'Nucleus Accumbens Basal Ganglia', 'Cervical Spinal Cord C1 eQTL']"
   ]
  },
  {
   "cell_type": "markdown",
   "id": "635c4d17-b4df-416d-8e4b-2c613c38b7aa",
   "metadata": {},
   "source": [
    "## 1. Significant Genes <a id='siggen'></a>"
   ]
  },
  {
   "cell_type": "markdown",
   "id": "4a5abaaf-e961-47fe-9ec3-4008ab359389",
   "metadata": {},
   "source": [
    "### Significant Therapeutic Genes p_SMR_multi < 0.05/16875 & p_HEIDI > 0.01 - primary significance threshold for paper"
   ]
  },
  {
   "cell_type": "code",
   "execution_count": null,
   "id": "a5a71bb3-cee8-4b5d-8f4d-cb49f2cb6574",
   "metadata": {},
   "outputs": [],
   "source": [
    "def extract_topsig_genes2(main_df, sig = 0.05): # no fdr just P SMR multi < 0.01/20000 and HEIDI > 0.01.\n",
    "    # create df to hold top genes\n",
    "    top_gene_df = pd.DataFrame()\n",
    "    # pval based on largest number of unique protein coding genes amongst NDDs\n",
    "    pval = sig/16875\n",
    "    df = main_df.query(f\"p_SMR_multi < {pval} & p_HEIDI > 0.01\") # initial filter by each dx/omic combo  \n",
    "    top_gene = df[['Omic', 'Disease', 'Gene','probeID','ProbeChr', 'Probe_bp', 'topRSID','topSNP_chr', 'topSNP_bp', 'A1', 'A2', 'b_SMR', 'se_SMR','p_SMR', 'p_SMR_multi','p_HEIDI']] # filter out any genes whose fdr pval does not meet defined significance; default = 0.05\n",
    "\n",
    "    top_gene_df = pd.concat([top_gene_df,top_gene])\n",
    "    top_gene_df = top_gene_df.drop_duplicates()\n",
    "        \n",
    "    return top_gene_df"
   ]
  },
  {
   "cell_type": "code",
   "execution_count": null,
   "id": "002f1af1-0913-4a34-8577-a2bf39f7e5f7",
   "metadata": {},
   "outputs": [],
   "source": [
    "ndd_adj = extract_topsig_genes2(ndd_df_pc)\n",
    "\n",
    "ndd_adj"
   ]
  },
  {
   "cell_type": "code",
   "execution_count": null,
   "id": "50ace092-9079-4edd-b6c8-471843e795e5",
   "metadata": {},
   "outputs": [],
   "source": [
    "len(ndd_adj.Gene.unique()) # of significant genes"
   ]
  },
  {
   "cell_type": "markdown",
   "id": "78c35b1c-c979-4b9e-bfe8-332f85d41f5b",
   "metadata": {
    "tags": []
   },
   "source": [
    "#### Per Disease Breakdown for significant hits at p_SMR_multi < 0.05/16875 & p_HEIDI > 0.01"
   ]
  },
  {
   "cell_type": "code",
   "execution_count": null,
   "id": "afada2fb-3162-4dec-ac1e-3c7066c6741a",
   "metadata": {},
   "outputs": [],
   "source": [
    "for dx in ndd_list:\n",
    "    df = ndd_adj.query(f'Disease == \"{dx}\"')\n",
    "    uni = len(df.Gene.unique())\n",
    "    print(f'{dx} has {df.shape[0]} significant associations and {uni} unique genes')"
   ]
  },
  {
   "cell_type": "code",
   "execution_count": null,
   "id": "0c8c62c5-3c0c-49c6-9657-34c1ad8a5262",
   "metadata": {},
   "outputs": [],
   "source": [
    "# grab most significant omic association for each gene and put into a df\n",
    "top_genes_list_adj = ndd_adj.Gene.unique()\n",
    "single_sig_adj = pd.DataFrame()\n",
    "for gene in top_genes_list_adj:\n",
    "    df = ndd_adj.query(f'Gene == \"{gene}\"')\n",
    "    tmp = df[df['p_SMR_multi'] == df['p_SMR_multi'].min()]\n",
    "    single_sig_adj = pd.concat([single_sig_adj, tmp])\n",
    "\n",
    "# export single most significant omic association for each gene\n",
    "#single_sig_adj[['Gene', 'Omic', 'Disease', 'topRSID', 'b_SMR','se_SMR', 'p_SMR', 'p_SMR_multi', 'p_HEIDI']].to_csv('top_sig_genetx_adj.csv', index = False)"
   ]
  },
  {
   "cell_type": "code",
   "execution_count": null,
   "id": "218ae1eb-fa7f-4406-a360-65bb096c3701",
   "metadata": {},
   "outputs": [],
   "source": [
    "# find all diseases a gene is associated with\n",
    "gene_dx_adj = pd.DataFrame()\n",
    "dx_list_adj = []\n",
    "for gene in top_genes_list_adj:\n",
    "    df = ndd_adj.query(f'Gene == \"{gene}\"')\n",
    "    \n",
    "    # get list of diseases associated with a significant gene\n",
    "    dxs = list(df.Disease.unique())\n",
    "    \n",
    "    # turn list into string to use as a column in output df\n",
    "    dx_string = ', '.join(dxs)\n",
    "    \n",
    "    # append string to a list var \n",
    "    dx_list_adj.append(dx_string)\n",
    "\n",
    "# create df\n",
    "gene_dx_adj['Gene'] = top_genes_list_adj\n",
    "gene_dx_adj['Diseases'] = dx_list_adj\n",
    "\n",
    "# export\n",
    "#gene_dx_adj.to_csv('top_gene_dx_combo_adj.csv', index = None)"
   ]
  },
  {
   "cell_type": "code",
   "execution_count": null,
   "id": "2d92fc56-437d-4e74-b253-9b36cee95eaf",
   "metadata": {},
   "outputs": [],
   "source": [
    "# final Gene-Disease-Omic combos\n",
    "gene_dxtx_adj = pd.DataFrame()\n",
    "tmp_list_adj = []\n",
    "\n",
    "for gene in top_genes_list_adj:\n",
    "    df = ndd_adj.query(f'Gene == \"{gene}\"')\n",
    "    \n",
    "    # create column that has every dx-omic combo for that gene\n",
    "    df['dxtx'] = df.Disease + '-' + df.Omic\n",
    "    #df = df.assign(dxtx=lambda x: str(x.Disease + '-' + x.Omic))\n",
    "    \n",
    "    # get list of each unique combo\n",
    "    combos = list(set(df['dxtx'].unique()))\n",
    "    \n",
    "    # turn list into string to use as a column in output df\n",
    "    dxtx_string = ', '.join(combos)\n",
    "    \n",
    "    # append string to a list var \n",
    "    tmp_list_adj.append(dxtx_string)\n",
    "    \n",
    "# create df\n",
    "gene_dxtx_adj['Gene'] = top_genes_list_adj\n",
    "gene_dxtx_adj['Diseases-Omic Associations'] = tmp_list_adj\n",
    "\n",
    "#export\n",
    "#gene_dxtx_adj.to_csv('gene_dxtx_combos_adj.csv', index = None)"
   ]
  },
  {
   "cell_type": "code",
   "execution_count": null,
   "id": "8f64c7ae-739c-4f7f-89b1-0f63cd550bf8",
   "metadata": {},
   "outputs": [],
   "source": [
    "# final Gene-Disease-Omic combos and seperate by disease\n",
    "gene_dxtx_adj = pd.DataFrame()\n",
    "for gene in top_genes_list_adj:\n",
    "    df = ndd_adj.query(f'Gene == \"{gene}\"')\n",
    "    \n",
    "    # groupby\n",
    "    df2 = df.groupby(['Gene', 'Disease']).agg({'Gene':'first','Disease':'first', 'Omic': ', '.join})\n",
    "  \n",
    "\n",
    "    # append resulting dict into larger df for genes\n",
    "    gene_dxtx_adj = pd.concat([gene_dxtx_adj, df2])\n",
    "\n",
    "# export\n",
    "#gene_dxtx_adj.to_csv('gene_dxtx_combos_adj.csv', index = None)\n",
    "gene_dxtx_adj"
   ]
  },
  {
   "cell_type": "markdown",
   "id": "be6aea8d-a3be-4c4d-8932-c3d0a4fb2989",
   "metadata": {},
   "source": [
    "### Genes Significant in 2 Diseases"
   ]
  },
  {
   "cell_type": "code",
   "execution_count": null,
   "id": "a14a2bab-97f2-4900-bb81-0b10004c67a4",
   "metadata": {},
   "outputs": [],
   "source": [
    "# grab most significant omic association for each gene and put into a df\n",
    "top_genes_list_adj = ndd_adj.Gene.unique()\n",
    "two_sig_adj = pd.DataFrame()\n",
    "dx_2plus_adj = []\n",
    "for gene in top_genes_list_adj:\n",
    "    df = ndd_adj.query(f'Gene == \"{gene}\"')\n",
    "    \n",
    "    # get list of diseases associated with a significant gene\n",
    "    dxs = list(df.Disease.unique())\n",
    "    \n",
    "    # only get info on genes that are isgnificant in 3+ dx\n",
    "\n",
    "    if len(dxs) == 2:\n",
    "        two_sig_adj = pd.concat([two_sig_adj, df])\n",
    "        # append genes that meet criteria to a list\n",
    "        dx_2plus_adj.append(gene)\n",
    "\n",
    "# find all diseases a gene is associated with\n",
    "gene_dx_adj2 = pd.DataFrame()\n",
    "dx_list_adj2 = []\n",
    "for gene in dx_2plus_adj:\n",
    "    df = ndd_adj.query(f'Gene == \"{gene}\"')\n",
    "    \n",
    "    # get list of diseases associated with a significant gene\n",
    "    dxs = list(df.Disease.unique())\n",
    "    \n",
    "    # turn list into string to use as a column in output df\n",
    "    dx_string = ', '.join(dxs)\n",
    "    \n",
    "    # append string to a list var \n",
    "    dx_list_adj2.append(dx_string)\n",
    "\n",
    "# create df\n",
    "gene_dx_adj2['Gene'] = dx_2plus_adj\n",
    "gene_dx_adj2['Diseases'] = dx_list_adj2\n",
    "\n",
    "thera_sig_adj2 = []\n",
    "non_sig_adj2 = []\n",
    "for x in gene_dx_adj2['Gene']:\n",
    "    if x in thera_genes: # thera_genes = list of thera genes from drug dbs\n",
    "        thera_sig_adj2.append(x)\n",
    "    else:\n",
    "        non_sig_adj2.append(x)"
   ]
  },
  {
   "cell_type": "code",
   "execution_count": null,
   "id": "8c6bafea-7389-4356-a71c-b47824c1c550",
   "metadata": {},
   "outputs": [],
   "source": [
    "gene_dx_adj2.query('Gene == @thera_sig_adj2')"
   ]
  },
  {
   "cell_type": "code",
   "execution_count": null,
   "id": "d4c85cf2-1bb4-4069-920d-624409362eeb",
   "metadata": {},
   "outputs": [],
   "source": [
    "gene_dx_adj2.query('Gene == @non_sig_adj2')  "
   ]
  },
  {
   "cell_type": "code",
   "execution_count": null,
   "id": "6f2fbbed-42f5-455d-ac17-26d74a11b9ab",
   "metadata": {},
   "outputs": [],
   "source": [
    "# use top gene list to pull all hits\n",
    "dx2_df = ndd_adj.query('Gene == @dx_2plus_adj')\n",
    "dx2_df"
   ]
  },
  {
   "cell_type": "code",
   "execution_count": null,
   "id": "3ff0b260-60e9-4c63-9c3f-39a54f47e9b4",
   "metadata": {},
   "outputs": [],
   "source": [
    "# export \n",
    "dx2_df.to_csv('gene_2dx_hits.csv', index = None)"
   ]
  },
  {
   "cell_type": "markdown",
   "id": "a83215dc-26ee-4112-a04d-c941e1425a03",
   "metadata": {},
   "source": [
    "### Genes Significant in 3+ Diseases"
   ]
  },
  {
   "cell_type": "code",
   "execution_count": null,
   "id": "38a156aa-3dae-44f3-80b8-b3c9fe5fc545",
   "metadata": {},
   "outputs": [],
   "source": [
    "# grab most significant omic association for each gene and put into a df\n",
    "top_genes_list_adj = ndd_adj.Gene.unique()\n",
    "three_sig_adj = pd.DataFrame()\n",
    "dx_3plus_adj = []\n",
    "for gene in top_genes_list_adj:\n",
    "    df = ndd_adj.query(f'Gene == \"{gene}\"')\n",
    "    \n",
    "    # get list of diseases associated with a significant gene\n",
    "    dxs = list(df.Disease.unique())\n",
    "    \n",
    "    # only get info on genes that are isgnificant in 3+ dx\n",
    "\n",
    "    if len(dxs) >= 3:\n",
    "        three_sig_adj = pd.concat([three_sig_adj, df])\n",
    "        # append genes that meet criteria to a list\n",
    "        dx_3plus_adj.append(gene)\n",
    "\n",
    "# find all diseases a gene is associated with\n",
    "gene_dx_adj3 = pd.DataFrame()\n",
    "dx_list_adj3 = []\n",
    "for gene in dx_3plus_adj:\n",
    "    df = ndd_adj.query(f'Gene == \"{gene}\"')\n",
    "    \n",
    "    # get list of diseases associated with a significant gene\n",
    "    dxs = list(df.Disease.unique())\n",
    "    \n",
    "    # turn list into string to use as a column in output df\n",
    "    dx_string = ', '.join(dxs)\n",
    "    \n",
    "    # append string to a list var \n",
    "    dx_list_adj3.append(dx_string)\n",
    "\n",
    "# create df\n",
    "gene_dx_adj3['Gene'] = dx_3plus_adj\n",
    "gene_dx_adj3['Diseases'] = dx_list_adj3\n",
    "\n",
    "thera_sig_adj3 = []\n",
    "non_sig_adj3 = []\n",
    "for x in gene_dx_adj3['Gene']:\n",
    "    if x in thera_genes: # thera_genes = list of thera genes from drug dbs\n",
    "        thera_sig_adj3.append(x)\n",
    "    else:\n",
    "        non_sig_adj3.append(x)"
   ]
  },
  {
   "cell_type": "code",
   "execution_count": null,
   "id": "1f8d3a68-cacc-4549-a5f0-c3e153f11e4e",
   "metadata": {},
   "outputs": [],
   "source": [
    "gene_dx_adj3"
   ]
  },
  {
   "cell_type": "code",
   "execution_count": null,
   "id": "0034b5e3-1380-4491-b963-1ba9a11b6e46",
   "metadata": {},
   "outputs": [],
   "source": [
    "# use top gene list to pull all hits\n",
    "dx3_df = ndd_adj.query('Gene == @dx_3plus_adj')\n",
    "dx3_df"
   ]
  },
  {
   "cell_type": "code",
   "execution_count": null,
   "id": "b2b11e27-c2af-4ade-855f-131c8d59f65b",
   "metadata": {},
   "outputs": [],
   "source": [
    "# export \n",
    "dx3_df.to_csv('gene_3dx_hits.csv', index = None)"
   ]
  },
  {
   "cell_type": "code",
   "execution_count": null,
   "id": "e4bac0c9-d66b-489d-bd5a-eccf2fa6e8fb",
   "metadata": {},
   "outputs": [],
   "source": [
    "gene_dx_adj3.query('Gene == @thera_sig_adj3') # druggable multidx genes"
   ]
  },
  {
   "cell_type": "code",
   "execution_count": null,
   "id": "1d15c910-00cd-419e-aeb6-5b6a76249b89",
   "metadata": {},
   "outputs": [],
   "source": [
    "gene_dx_adj3.query('Gene == @non_sig_adj3')  # nondruggable multidx genes"
   ]
  },
  {
   "cell_type": "markdown",
   "id": "b114fe57-93a9-480e-a13c-80d49d5a452e",
   "metadata": {},
   "source": [
    "## 2. Summary Statistics <a id='sumstats'></a>"
   ]
  },
  {
   "cell_type": "markdown",
   "id": "36ecb75d-de04-4016-83cb-4815faa06bf0",
   "metadata": {},
   "source": [
    "### 2.1 Number of Unique Genes in each Disease & Overall <a id='sumstats2.1'></a>"
   ]
  },
  {
   "cell_type": "code",
   "execution_count": null,
   "id": "fd13cdf3-8102-4fbd-bdc1-26dec77aa409",
   "metadata": {},
   "outputs": [],
   "source": [
    "# pull numbers from all genes used in SMR\n",
    "for dx in ndd_list:\n",
    "    df = ndd_df_pc.query(f\"Disease == '{dx}'\")\n",
    "    num = len(df.Gene.unique())\n",
    "    print(f'{dx} has {num} total genes')"
   ]
  },
  {
   "cell_type": "code",
   "execution_count": null,
   "id": "6db80d01-3e39-4f63-abca-168d4928ea23",
   "metadata": {},
   "outputs": [],
   "source": [
    "# pull numbers from all genes used in SMR\n",
    "for dx in ndd_list:\n",
    "    df = ndd_df_pc.query(f\"Disease == '{dx}' & Omic == 'Liver eQTL'\")\n",
    "    num = len(df.Gene.unique())\n",
    "    print(f'{dx} has {num} total liver genes')"
   ]
  },
  {
   "cell_type": "code",
   "execution_count": null,
   "id": "6f377d49-3feb-49af-8781-3e16beb10ea0",
   "metadata": {},
   "outputs": [],
   "source": [
    "# extract therapuetic gene hits and non-therapeutic\n",
    "ndd_thera = ndd_df_pc.query('Gene == @thera_genes')\n",
    "ndd_nonthera = ndd_df_pc.query('Gene != @thera_genes')"
   ]
  },
  {
   "cell_type": "code",
   "execution_count": null,
   "id": "4f1128ec-ba0d-41fd-acde-7c79041f5103",
   "metadata": {},
   "outputs": [],
   "source": [
    "for dx in ndd_list:\n",
    "    df = ndd_thera.query(f\"Disease == '{dx}'\")\n",
    "    num = len(df.Gene.unique())\n",
    "    print(f'{dx} has {num} therapeutic genes')"
   ]
  },
  {
   "cell_type": "code",
   "execution_count": null,
   "id": "293a7530-95b2-4e81-85ef-3ecef301d8b3",
   "metadata": {},
   "outputs": [],
   "source": [
    "for dx in ndd_list:\n",
    "    df = ndd_nonthera.query(f\"Disease == '{dx}'\")\n",
    "    num = len(df.Gene.unique())\n",
    "    print(f'{dx} has {num} nontherapeutic genes')"
   ]
  },
  {
   "cell_type": "markdown",
   "id": "ac6a0cde-2f5b-47b3-9c59-c0f905134e2e",
   "metadata": {},
   "source": [
    "### 2.2 eQTL  Stats<a id='sumstats2.2'></a>"
   ]
  },
  {
   "cell_type": "markdown",
   "id": "fe07c7db-3aa8-4e99-be0e-1590ca2378cd",
   "metadata": {},
   "source": [
    "#### All Genes - no sig threshold applied"
   ]
  },
  {
   "cell_type": "code",
   "execution_count": null,
   "id": "e4b2dc5d-74e0-4d87-965f-c93f2773f6e3",
   "metadata": {},
   "outputs": [],
   "source": [
    "# filter out for all eQTL omics only\n",
    "ndd_eQTL = ndd_df_pc.query('Omic == @eqtl_omics2')\n",
    "\n",
    "multi_eqtl = ndd_df_pc.query('Omic == \"Multi Ancestry Whole Brain Meta-analysis eQTL\"')\n",
    "\n",
    "ma_genes = list(multi_eqtl.Gene.unique()) # multiancestry gene hits"
   ]
  },
  {
   "cell_type": "code",
   "execution_count": null,
   "id": "90c88568-b249-4a5e-8b7c-0d7fbc61762d",
   "metadata": {},
   "outputs": [],
   "source": [
    "# get number of eQTLS that aren't multiancestry for each disease\n",
    "for dx in ndd_list:\n",
    "    df = ndd_eQTL.query(f'Disease == \"{dx}\"')\n",
    "    num = len(df.Gene.unique())\n",
    "    print(f'There are {num} genes in {dx} eQTLs')"
   ]
  },
  {
   "cell_type": "code",
   "execution_count": null,
   "id": "9c14ff4a-de9b-4ecb-9f70-16d82242d1f8",
   "metadata": {},
   "outputs": [],
   "source": [
    "# get number of eQTLS that are multiancestry for each disease\n",
    "for dx in ndd_list:\n",
    "    df = multi_eqtl.query(f'Disease == \"{dx}\"')\n",
    "    num = len(df.Gene.unique())\n",
    "    print(f'There are {num} unique genes in {dx} multiancestry eQTLs')"
   ]
  },
  {
   "cell_type": "code",
   "execution_count": null,
   "id": "03ec7202-de69-4c7b-bb71-6410cf002987",
   "metadata": {},
   "outputs": [],
   "source": [
    "# find how many hits replicated\n",
    "for dx in ndd_list:\n",
    "    eqtl_tmp = ndd_eQTL.query(f'Disease == \"{dx}\"')\n",
    "    \n",
    "    eqtl = eqtl_tmp.query(\"Gene == @ma_genes\")\n",
    "    \n",
    "    num = len(eqtl.Gene.unique())\n",
    "    print(f'There are {num} replicated multiancestry genes in {dx} eQTLs')"
   ]
  },
  {
   "cell_type": "markdown",
   "id": "df8c14e0-7f28-4f1a-b197-5db0577433ca",
   "metadata": {},
   "source": [
    "### 2.3 Significant genes <a id='sumstats2.3'></a>\n",
    "#### 2.3.1 p<sub>SMR_multi</sub> < 0.05 +  p<sub>HEIDI</sub> > 0.01 "
   ]
  },
  {
   "cell_type": "code",
   "execution_count": null,
   "id": "6c6705d3-0dc9-4719-87c7-1b34721bbe97",
   "metadata": {},
   "outputs": [],
   "source": [
    "# calculate how which genes are significant\n",
    "all_sig = extract_topsig_genes(ndd_df_pc)\n",
    "\n",
    "# pull numbers from significant genes used in SMR\n",
    "for dx in ndd_list:\n",
    "    df = all_sig.query(f\"Disease == '{dx}'\")\n",
    "    num = len(df.Gene.unique())\n",
    "    print(f'{dx} has {num} total unique genes')"
   ]
  },
  {
   "cell_type": "code",
   "execution_count": null,
   "id": "7730bb4c-7ea9-4083-b2ae-1a70ce0993ca",
   "metadata": {},
   "outputs": [],
   "source": [
    "# pull numbers from significant genes used in SMR and split by therapeutic status\n",
    "for dx in ndd_list:\n",
    "    df = all_sig.query(f\"Disease == '{dx}'\")\n",
    "    thera = df.query('Gene == @thera_genes')\n",
    "    non_thera = df.query('Gene != @thera_genes')\n",
    "    num1 = len(thera.Gene.unique())\n",
    "    num2 = len(non_thera.Gene.unique())\n",
    "    print(f'{dx} has {num1} thera genes and {num2} nonthera genes')"
   ]
  },
  {
   "cell_type": "code",
   "execution_count": null,
   "id": "e52a18e4-f239-43a2-bcb9-e9a159e18cac",
   "metadata": {},
   "outputs": [],
   "source": [
    "# pull numbers for liver genes used in SMR\n",
    "for dx in ndd_list:\n",
    "    df = all_sig.query(f\"Disease == '{dx}' & Omic == 'Liver eQTL'\")\n",
    "    num = len(df.Gene.unique())\n",
    "    print(f'{dx} has {num} total unique liver genes')"
   ]
  },
  {
   "cell_type": "code",
   "execution_count": null,
   "id": "4063f30d-d983-47c9-aa7d-b73e9ec549fd",
   "metadata": {
    "tags": []
   },
   "outputs": [],
   "source": [
    "# filter out for all eQTL omics in first level of sig threshold\n",
    "ndd_sigeQTL = all_sig.query('Omic == @eqtl_omics2')\n",
    "\n",
    "multi_sigeqtl = all_sig.query('Omic == \"Multi Ancestry Whole Brain Meta-analysis eQTL\"')"
   ]
  },
  {
   "cell_type": "code",
   "execution_count": null,
   "id": "2b6d12b7-ee7c-4b49-90cc-0b70a0ea30f0",
   "metadata": {},
   "outputs": [],
   "source": [
    "# get number of eQTLS that aren't multiancestry for each disease\n",
    "for dx in ndd_list:\n",
    "    df = ndd_sigeQTL.query(f'Disease == \"{dx}\"')\n",
    "    num = len(df.Gene.unique())\n",
    "    print(f'There are {num} genes in {dx} eQTLs')"
   ]
  },
  {
   "cell_type": "code",
   "execution_count": null,
   "id": "8304fc3d-35d6-4875-912c-10c68f9d2077",
   "metadata": {},
   "outputs": [],
   "source": [
    "# get number of eQTLS that are multiancestry for each disease\n",
    "for dx in ndd_list:\n",
    "    df = multi_sigeqtl.query(f'Disease == \"{dx}\"')\n",
    "    num = len(df.Gene.unique())\n",
    "    print(f'There are {num} unique genes in {dx} multiancestry eQTLs')"
   ]
  },
  {
   "cell_type": "code",
   "execution_count": null,
   "id": "48165012-6354-4ff3-ba26-3544fba07ca0",
   "metadata": {},
   "outputs": [],
   "source": [
    "# find how many hits replicated using all multiancestry gene\n",
    "# use list of all multiancestry eqtls(regardless of significance) to find any replicated hits in significant NDDs\n",
    "for dx in ndd_list:\n",
    "    eqtl_tmp = ndd_sigeQTL.query(f'Disease == \"{dx}\"')\n",
    "    \n",
    "    eqtl = eqtl_tmp.query(\"Gene == @ma_genes\")\n",
    "    \n",
    "    num = len(eqtl.Gene.unique())\n",
    "    print(f'There are {num} replicated multiancestry genes in {dx} eQTLs')"
   ]
  },
  {
   "cell_type": "markdown",
   "id": "5a3f49b8-24da-4cdb-9619-f886c3d549ba",
   "metadata": {},
   "source": [
    "#### 2.3.2 p<sub>SMR_multi</sub> < 0.05/16875 & p<sub>HEIDI</sub> > 0.01 <a id='sumstats2.3.2'></a>"
   ]
  },
  {
   "cell_type": "code",
   "execution_count": null,
   "id": "561f79b5-acd2-4cd0-9ce9-9a9ce7bd44d3",
   "metadata": {},
   "outputs": [],
   "source": [
    "sig2 = extract_topsig_genes2(ndd_df_pc) # pull main sig threshold hits (159 genes)\n",
    "\n",
    "# filter out for all eQTL omics\n",
    "ndd_sigeQTL = sig2.query('Omic == @eqtl_omics2')\n",
    "\n",
    "multi_sigeqtl = sig2.query('Omic == \"Multi Ancestry Whole Brain Meta-analysis eQTL\"')\n",
    "\n",
    "ma_genes = list(multi_sigeqtl.Gene.unique())"
   ]
  },
  {
   "cell_type": "code",
   "execution_count": null,
   "id": "27969724-a9c7-4440-a250-67e875ecf602",
   "metadata": {},
   "outputs": [],
   "source": [
    "# pull numbers from significant genes used in SMR\n",
    "for dx in ndd_list:\n",
    "    df = sig2.query(f\"Disease == '{dx}'\")\n",
    "    num = len(df.Gene.unique())\n",
    "    print(f'{dx} has {num} total unique genes')\n",
    "    \n",
    "# pull numbers from significant genes used in SMR and split by therapeutic status\n",
    "for dx in ndd_list:\n",
    "    df = sig2.query(f\"Disease == '{dx}'\")\n",
    "    thera = df.query('Gene == @thera_genes')\n",
    "    non_thera = df.query('Gene != @thera_genes')\n",
    "    num1 = len(thera.Gene.unique())\n",
    "    num2 = len(non_thera.Gene.unique())\n",
    "    print(f'{dx} has {num1} thera genes and {num2} nonthera genes')"
   ]
  },
  {
   "cell_type": "code",
   "execution_count": null,
   "id": "4b204718-f206-40bd-81b0-0bf401a38983",
   "metadata": {
    "tags": []
   },
   "outputs": [],
   "source": [
    "# pull numbers for liver genes used in SMR\n",
    "for dx in ndd_list:\n",
    "    df = sig2.query(f\"Disease == '{dx}' & Omic == 'Liver eQTL'\")\n",
    "    num = len(df.Gene.unique())\n",
    "    print(f'{dx} has {num} total unique liver genes')"
   ]
  },
  {
   "cell_type": "code",
   "execution_count": null,
   "id": "0ae70269-7472-488a-a883-e8fd95cd6e4a",
   "metadata": {},
   "outputs": [],
   "source": [
    "# get number of eQTLS that aren't multiancestry for each disease\n",
    "for dx in ndd_list:\n",
    "    df = ndd_sigeQTL.query(f'Disease == \"{dx}\"')\n",
    "    num = len(df.Gene.unique())\n",
    "    print(f'There are {num} genes in {dx} eQTLs')"
   ]
  },
  {
   "cell_type": "code",
   "execution_count": null,
   "id": "9522821f-3909-43fb-b27b-d8577fd1b74f",
   "metadata": {},
   "outputs": [],
   "source": [
    "# find how many hits replicated using all multiancestry gene\n",
    "# use list of all multiancestry eqtls(regardless of significance) to find any replicated hits in significant NDDs\n",
    "for dx in ndd_list:\n",
    "    eqtl_tmp = ndd_sigeQTL.query(f'Disease == \"{dx}\"')\n",
    "    \n",
    "    eqtl = eqtl_tmp.query(\"Gene == @ma_genes\")\n",
    "    \n",
    "    num = len(eqtl.Gene.unique())\n",
    "    print(f'There are {num} replicated multiancestry genes in {dx} eQTLs')"
   ]
  },
  {
   "cell_type": "markdown",
   "id": "87b9a2b0-ea7f-4784-a747-4dc333550c8a",
   "metadata": {},
   "source": [
    "#### 2.3.3 Significance p<sub>SMR_multi</sub> < 0.01/16875*[N Omic-Disease pairs]  & p<sub>HEIDI</sub> >  0.01 <a id='sumstats2.3.3'></a>"
   ]
  },
  {
   "cell_type": "code",
   "execution_count": null,
   "id": "fb14e0b7-ceeb-4066-8a77-8ddd21033aa0",
   "metadata": {},
   "outputs": [],
   "source": [
    "def extract_topsig_genes3(main_df,dx_list, omic_list, sig = 0.05): # no fdr just P SMR multi < 0.01/20000 and HEIDI > 0.01.\n",
    "    # create df to hold top genes\n",
    "    top_gene_df = pd.DataFrame()\n",
    "    all_df = main_df.query(f\"Disease == '{dx_list[0]}'\")\n",
    "    txdx = len(all_df[['Omic', 'Disease']].value_counts()) # of omic-dx pairs for each disease\n",
    "    pval = 0.05/(16875*txdx)\n",
    "    for disease in dx_list:\n",
    "        for omic in omic_list:\n",
    "            df = main_df.query(f\"Disease == '{disease}' & Omic == '{omic}' & p_SMR_multi < {pval} & p_HEIDI > 0.01\") # initial filter by each dx/omic combo  \n",
    "            top_gene = df[['Omic', 'Disease', 'Gene','probeID', 'topRSID', 'b_SMR', 'se_SMR','p_SMR', 'p_SMR_multi','p_HEIDI']] # filter out any genes whose fdr pval does not meet defined significance; default = 0.05\n",
    "\n",
    "            top_gene_df = pd.concat([top_gene_df,top_gene])\n",
    "            top_gene_df = top_gene_df.drop_duplicates()\n",
    "        \n",
    "    return top_gene_df"
   ]
  },
  {
   "cell_type": "code",
   "execution_count": null,
   "id": "6f152bbc-4a3a-4d32-8b89-9b22875c777d",
   "metadata": {},
   "outputs": [],
   "source": [
    "sig3 = extract_topsig_genes3(ndd_df_pc, ndd_list, omic_map.values()) # pull hits that eet strictest threshold\n",
    "\n",
    "# filter out for all eQTL omics\n",
    "ndd_sigeQTL = sig3.query('Omic == @eqtl_omics2')\n",
    "\n",
    "multi_sigeqtl = sig3.query('Omic == \"Multi Ancestry Whole Brain Meta-analysis eQTL\"')\n",
    "\n",
    "ma_genes = list(multi_eqtl.Gene.unique())"
   ]
  },
  {
   "cell_type": "code",
   "execution_count": null,
   "id": "3a5246d5-258a-4d17-9936-54b118116adc",
   "metadata": {},
   "outputs": [],
   "source": [
    "# pull numbers from significant genes used in SMR\n",
    "for dx in ndd_list:\n",
    "    df = sig3.query(f\"Disease == '{dx}'\")\n",
    "    num = len(df.Gene.unique())\n",
    "    print(f'{dx} has {num} total unique genes')\n",
    "    \n",
    "# pull numbers from significant genes used in SMR and split by therapeutic status\n",
    "for dx in ndd_list:\n",
    "    df = sig3.query(f\"Disease == '{dx}'\")\n",
    "    thera = df.query('Gene == @thera_genes')\n",
    "    non_thera = df.query('Gene != @thera_genes')\n",
    "    num1 = len(thera.Gene.unique())\n",
    "    num2 = len(non_thera.Gene.unique())\n",
    "    print(f'{dx} has {num1} thera genes and {num2} nonthera genes')"
   ]
  },
  {
   "cell_type": "code",
   "execution_count": null,
   "id": "74b00391-dea6-4142-a7a2-5a7cdea090f9",
   "metadata": {
    "tags": []
   },
   "outputs": [],
   "source": [
    "# pull numbers for liver genes used in SMR\n",
    "for dx in ndd_list:\n",
    "    df = sig3.query(f\"Disease == '{dx}' & Omic == 'Liver eQTL'\")\n",
    "    num = len(df.Gene.unique())\n",
    "    print(f'{dx} has {num} total unique liver genes')"
   ]
  },
  {
   "cell_type": "code",
   "execution_count": null,
   "id": "6c49469a-01aa-464b-9882-7926307f93a2",
   "metadata": {},
   "outputs": [],
   "source": [
    "# get number of eQTLS that aren't multiancestry for each disease\n",
    "for dx in ndd_list:\n",
    "    df = ndd_sigeQTL.query(f'Disease == \"{dx}\"')\n",
    "    num = len(df.Gene.unique())\n",
    "    print(f'There are {num} genes in {dx} eQTLs')"
   ]
  },
  {
   "cell_type": "code",
   "execution_count": null,
   "id": "e590adc4-7a00-4783-9152-cb107c20fab9",
   "metadata": {},
   "outputs": [],
   "source": [
    "# find how many hits replicated using all multiancestry gene\n",
    "# use list of all multiancestry eqtls(regardless of significance) to find any replicated hits in significant NDDs\n",
    "for dx in ndd_list:\n",
    "    eqtl_tmp = ndd_sigeQTL.query(f'Disease == \"{dx}\"')\n",
    "    \n",
    "    eqtl = eqtl_tmp.query(\"Gene == @ma_genes\")\n",
    "    \n",
    "    num = len(eqtl.Gene.unique())\n",
    "    print(f'There are {num} replicated multiancestry genes in {dx} eQTLs')"
   ]
  },
  {
   "cell_type": "markdown",
   "id": "d482c12f-6e52-4b62-8525-7386411475ea",
   "metadata": {},
   "source": [
    "## 4. Tier Nomination <a id='tier'></a>"
   ]
  },
  {
   "cell_type": "code",
   "execution_count": null,
   "id": "d2f34191-20a6-413a-b456-04ca16eefcf0",
   "metadata": {},
   "outputs": [],
   "source": [
    "# read in therapeutic drug data - from Finan et al and DGidb\n",
    "drugs_df = pd.read_csv('./drug_genome_dgidb.csv', sep = ',')\n",
    "# drop nans in gene_name\n",
    "drugs_df = drugs_df.query('gene_name != \"nan\"')\n",
    "\n",
    "# fill in any NaN bc theyre annoying\n",
    "drugs_df.drug_concept_id = drugs_df.drug_concept_id.fillna('none')\n",
    "\n",
    "# clean chemblid col since we need\n",
    "drugs_df['chemblid'] = drugs_df.drug_concept_id.apply(lambda x: str(x.split(':')[1]) if ':'in x else x)\n",
    "\n",
    "\n",
    "# remove any rows that do not have chembl id\n",
    "drugs_df_red = drugs_df.query('chemblid != \"none\"')\n",
    "\n",
    "drugs_df_red['drug_claim_primary_name'] = drugs_df_red['drug_claim_primary_name'].astype('str')\n",
    "\n",
    "drugs_df_red['drug_claim_primary_name'] = drugs_df_red['drug_claim_primary_name'].apply(lambda x: x.lower())"
   ]
  },
  {
   "cell_type": "code",
   "execution_count": null,
   "id": "f54f258b-7b20-4560-b82b-05f6836938c2",
   "metadata": {},
   "outputs": [],
   "source": [
    "# pull genes that have medications\n",
    "drugs_df_no = drugs_df.query('drug_name ! = \"none\"')\n",
    "\n",
    "# list of unique gene targets from drug data\n",
    "thera_genes = list(drugs_df_no['gene_name'].unique())\n",
    "\n",
    "drugs_df_no"
   ]
  },
  {
   "cell_type": "code",
   "execution_count": null,
   "id": "6857c38d-385a-4313-9064-313b15c11b8d",
   "metadata": {},
   "outputs": [],
   "source": [
    "# extract all genes that meet significance, not just top single gene ( only need to run this cell if you didn't run it in sections before)\n",
    "ndd_adj = extract_topsig_genes2(ndd_df_pc)\n",
    "\n",
    "# number of unique genes that are significant at p < 0.05/16875 & p_HEIDI > 0.01\n",
    "print(len(ndd_adj.Gene.unique()))"
   ]
  },
  {
   "cell_type": "markdown",
   "id": "7473e08d-4267-4a18-9145-f1f6b150aa04",
   "metadata": {},
   "source": [
    "### 4.1 Tier 1 - Novel Genes Multi Ancestry p_SMR_multi < 0.05/16875 and p_HEIDI > 0.01<a id='eqtl4.1'></a>"
   ]
  },
  {
   "cell_type": "code",
   "execution_count": null,
   "id": "80033edd-6e4e-4333-876b-a645fe5a1b18",
   "metadata": {},
   "outputs": [],
   "source": [
    "# split data frame into therapeutic vs non-therapeutic\n",
    "therapeutic_genes = ndd_adj.query('Gene == @thera_genes')\n",
    "nonthera_genes = ndd_adj.query('Gene != @thera_genes')\n",
    "\n",
    "# split by multiancestry\n",
    "# filter for all non-multiancestry eQTLs\n",
    "ndd_other = therapeutic_genes.query(\"Omic != 'Multi Ancestry Whole Brain Meta-analysis eQTL'\")\n",
    "\n",
    "# filter for multiancestry\n",
    "ndd_ma = therapeutic_genes.query(\"Omic == 'Multi Ancestry Whole Brain Meta-analysis eQTL'\")\n",
    "\n",
    "# extract list of genes from multiancestry hits to compare against all other eQTLs\n",
    "ma_genes = list(ndd_ma['Gene'].unique())\n",
    "print(len(ma_genes))\n",
    "\n",
    "other_genes = list(ndd_other.Gene.unique())\n",
    "print(len(other_genes))\n",
    "\n",
    "common_genes = []\n",
    "\n",
    "for x in ma_genes:\n",
    "    if x in other_genes:\n",
    "        common_genes.append(x)\n",
    "len(common_genes)"
   ]
  },
  {
   "cell_type": "code",
   "execution_count": null,
   "id": "47391354-42fe-4d64-a5aa-a690e6e2ab07",
   "metadata": {},
   "outputs": [],
   "source": [
    "# pull any hits from all other eqtls that passed inital filter\n",
    "merge_hits_other = ndd_other.query(\"Gene == @common_genes\")\n",
    "merge_hits_ma = ndd_ma.query(\"Gene == @common_genes\")\n",
    "\n",
    "# combine ma hits df and merge_hits\n",
    "merged_hits_all = pd.concat([merge_hits_other, merge_hits_ma])\n",
    "\n",
    "\n",
    "# merge results with drug data\n",
    "merged_drugs = merged_hits_all.merge(drugs_df[['gene_name', 'interaction_types', 'drug_claim_name', 'drug_claim_primary_name', 'drug_name', 'chemblid']], left_on = 'Gene', right_on = 'gene_name')\n",
    "\n",
    "# sig genes replicated in MA\n",
    "len(merged_drugs.Gene.unique())"
   ]
  },
  {
   "cell_type": "code",
   "execution_count": null,
   "id": "0369dad3-c800-45cf-a486-97196eb88304",
   "metadata": {
    "tags": []
   },
   "outputs": [],
   "source": [
    "# find drugs with chemblid's and export for opentargets API\n",
    "chembl_drugs = merged_drugs.query('chemblid != \"none\"')\n",
    "\n",
    "# export df\n",
    "#chembl_drugs.to_csv('sig_genes_ma_chemblthresh2.csv', index = None)\n",
    "\n",
    "# find drugs with no chemblid's and export \n",
    "nochembl_drugs = merged_drugs.query('chemblid == \"none\"')\n",
    "\n",
    "# export df\n",
    "#nochembl_drugs.to_csv('sig_genes_ma_nochemblthresh2.csv', index = None)"
   ]
  },
  {
   "cell_type": "markdown",
   "id": "00d90a6d-2c0c-457b-a55f-21e2936dd63a",
   "metadata": {},
   "source": [
    "### Filter for genes that have no known therapeutic drug"
   ]
  },
  {
   "cell_type": "code",
   "execution_count": null,
   "id": "5b122941-4e7e-4cc5-95a9-56e865eaca99",
   "metadata": {},
   "outputs": [],
   "source": [
    "# list of genes with drugs \n",
    "drug_genes = list(drugs_df_no['gene_name'].unique())\n",
    "\n",
    "# filter SMR hits identified against ones with known thera\n",
    "t1_novel = merged_hits_all.query('Gene != @drug_genes')\n",
    "\n",
    "t1_novel.shape"
   ]
  },
  {
   "cell_type": "markdown",
   "id": "25535347-4d4c-41c0-8d81-378298a0b982",
   "metadata": {},
   "source": [
    "### 4.2 T1 Novel - all Significant hits regardless of multiancestry replication"
   ]
  },
  {
   "cell_type": "code",
   "execution_count": null,
   "id": "61146bb7-2ef1-4f2a-be32-cf6a400e8fdf",
   "metadata": {},
   "outputs": [],
   "source": [
    "# split data frame into therapeutic vs non-therapeutic\n",
    "therapeutic_genes = ndd_adj.query('Gene == @thera_genes')\n",
    "nonthera_genes = ndd_adj.query('Gene != @thera_genes')\n",
    "\n",
    "print(len(therapeutic_genes.Gene.unique()))\n",
    "\n",
    "# list of genes with drugs \n",
    "drug_genes = list(drugs_df['gene_name'].unique())\n",
    "# filter SMR hits identified against ones with known thera\n",
    "t1_novel = therapeutic_genes.query('Gene != @drug_genes')\n",
    "\n",
    "t1_novel"
   ]
  },
  {
   "cell_type": "code",
   "execution_count": null,
   "id": "2f897d76-a3d5-474c-846b-cee891502d5b",
   "metadata": {},
   "outputs": [],
   "source": [
    "# merge thera genes on drug data\n",
    "thera_drug_data = therapeutic_genes.merge(drugs_df[['gene_name', 'interaction_types', 'drug_claim_name', 'drug_claim_primary_name', 'drug_name', 'chemblid']], left_on = 'Gene', right_on = 'gene_name')\n",
    "\n",
    "# find drugs with chemblid's and export for opentargets API\n",
    "chembl_drugs_all = thera_drug_data.query('chemblid != \"none\"')\n",
    "\n",
    "len(chembl_drugs_all.Gene.unique())"
   ]
  },
  {
   "cell_type": "code",
   "execution_count": null,
   "id": "5cafa5fa-97d5-4cf8-8a59-9d024c62b98b",
   "metadata": {
    "tags": []
   },
   "outputs": [],
   "source": [
    "len(thera_drug_data.Gene.unique()) - 3 # 3 being 3 tier 1 genes we identified using opentargets"
   ]
  },
  {
   "cell_type": "code",
   "execution_count": null,
   "id": "d988639c-2813-4714-9bd1-548ecfebd617",
   "metadata": {},
   "outputs": [],
   "source": [
    "# export df\n",
    "#chembl_drugs_all.to_csv('all_sig_genes_chemblthresh2.csv', index = None)\n",
    "\n",
    "# find drugs with no chemblid's and export\n",
    "nochembl_drugs_all = thera_drug_data.query('chemblid == \"none\"')\n",
    "nochembl_drugs_all\n",
    "\n",
    "len(nochembl_drugs_all.Gene.unique())\n",
    "\n",
    "# export df\n",
    "#nochembl_drugs_all.to_csv('all_sig_genes_nochemblthresh2.csv', index = None)"
   ]
  },
  {
   "cell_type": "markdown",
   "id": "48e8d14c-35fa-4bd1-841e-67ccde8551e7",
   "metadata": {},
   "source": [
    "### Tier 3 - No Therapeutic Status"
   ]
  },
  {
   "cell_type": "code",
   "execution_count": null,
   "id": "af60e0d4-01ca-486a-b185-777d78f8e715",
   "metadata": {},
   "outputs": [],
   "source": [
    "nonthera_genes"
   ]
  },
  {
   "cell_type": "code",
   "execution_count": null,
   "id": "415143cd-4c4d-40e3-aba5-9814a1ca47e3",
   "metadata": {},
   "outputs": [],
   "source": [
    "# number of unique genes\n",
    "len(nonthera_genes.Gene.unique())"
   ]
  }
 ],
 "metadata": {
  "kernelspec": {
   "display_name": "Python 3 (ipykernel)",
   "language": "python",
   "name": "python3"
  },
  "language_info": {
   "codemirror_mode": {
    "name": "ipython",
    "version": 3
   },
   "file_extension": ".py",
   "mimetype": "text/x-python",
   "name": "python",
   "nbconvert_exporter": "python",
   "pygments_lexer": "ipython3",
   "version": "3.9.12"
  }
 },
 "nbformat": 4,
 "nbformat_minor": 5
}
